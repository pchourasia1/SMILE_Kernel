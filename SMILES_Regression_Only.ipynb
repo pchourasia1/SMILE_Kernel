{
 "cells": [
  {
   "cell_type": "code",
   "execution_count": 1,
   "id": "30d04d4e",
   "metadata": {},
   "outputs": [],
   "source": [
    "from sklearn.model_selection import train_test_split\n",
    "from sklearn.linear_model import LinearRegression, Ridge, Lasso\n",
    "from sklearn.ensemble import RandomForestRegressor, GradientBoostingRegressor\n",
    "from sklearn.metrics import mean_absolute_error, mean_squared_error, r2_score, explained_variance_score\n",
    "import numpy as np"
   ]
  },
  {
   "cell_type": "code",
   "execution_count": 4,
   "id": "88ea17b6",
   "metadata": {},
   "outputs": [],
   "source": [
    "data_path = \"E:/RA/SMILES_Morgan_kmers_CIKM/Dataset/\"\n",
    "# dataset_name = \"Morgan_Fingerprint_Mannual_6897_vectors\"\n",
    "# dataset_name = \"Morgan_plus_kmers_Fingerprint_Mannual_6897_vectors\"\n",
    "# dataset_name = \"Morgan_plus_daylight_Fingerprint_Mannual_6897_vectors\"\n",
    "# dataset_name = \"Morgan_plus_kmers_plus_daylight_Fingerprint_Mannual_6897_vectors\"\n",
    "# dataset_name = \"Daylight_Fingerprint_Mannual_6897_vectors\"\n",
    "\n",
    "# frequency_vector = np.load(data_path + dataset_name + \".npy\")\n",
    "smile_strings_label = np.load(\"E:/RA/SMILES_ICLR_Drug_Analysis/Dataset/nano-drugbank-master/SMILE_Strings_6897_attributes_solubility_ALOGPS.npy\")\n"
   ]
  },
  {
   "cell_type": "code",
   "execution_count": 5,
   "id": "9d1d1ac8",
   "metadata": {},
   "outputs": [
    {
     "data": {
      "text/plain": [
       "0.0464"
      ]
     },
     "execution_count": 5,
     "metadata": {},
     "output_type": "execute_result"
    }
   ],
   "source": [
    "smile_strings_label[0]"
   ]
  },
  {
   "cell_type": "code",
   "execution_count": 34,
   "id": "fd932cc7",
   "metadata": {},
   "outputs": [
    {
     "data": {
      "text/plain": [
       "(6897, 2048)"
      ]
     },
     "execution_count": 34,
     "metadata": {},
     "output_type": "execute_result"
    }
   ],
   "source": [
    "frequency_vector.shape"
   ]
  },
  {
   "cell_type": "code",
   "execution_count": 32,
   "id": "451f55fa",
   "metadata": {},
   "outputs": [],
   "source": [
    "\n",
    "\n",
    "# Assume that frequency_vector contains the k-mer spectrum embedding for SMILES strings, and smile_strings_label contains the solubility label.\n",
    "X = np.array(frequency_vector)\n",
    "y = np.array(smile_strings_label)\n",
    "\n",
    "# Split the data into training and test sets.\n",
    "X_train, X_test, y_train, y_test = train_test_split(X, y, test_size=0.2, random_state=42)\n",
    "\n",
    "# Initialize the models.\n",
    "linear_reg = LinearRegression()\n",
    "ridge_reg = Ridge(alpha=1)\n",
    "lasso_reg = Lasso(alpha=0.1)\n",
    "rf_reg = RandomForestRegressor(n_estimators=100, random_state=42)\n",
    "gb_reg = GradientBoostingRegressor(n_estimators=100, random_state=42)\n",
    "\n",
    "# Train the models.\n",
    "linear_reg.fit(X_train, y_train)\n",
    "ridge_reg.fit(X_train, y_train)\n",
    "lasso_reg.fit(X_train, y_train)\n",
    "rf_reg.fit(X_train, y_train)\n",
    "gb_reg.fit(X_train, y_train)\n",
    "\n",
    "# Make predictions on the test set.\n",
    "y_pred_linear_reg = linear_reg.predict(X_test)\n",
    "y_pred_ridge_reg = ridge_reg.predict(X_test)\n",
    "y_pred_lasso_reg = lasso_reg.predict(X_test)\n",
    "y_pred_rf_reg = rf_reg.predict(X_test)\n",
    "y_pred_gb_reg = gb_reg.predict(X_test)\n",
    "\n",
    "\n"
   ]
  },
  {
   "cell_type": "code",
   "execution_count": 33,
   "id": "4b4849cc",
   "metadata": {},
   "outputs": [
    {
     "name": "stdout",
     "output_type": "stream",
     "text": [
      "Linear Regression:\n",
      "MAE: 349389460292.8494\n",
      "MSE: 1.6846073299297187e+26\n",
      "RMSE: 12979242389021.475\n",
      "R^2: -9.961620946077438e+21\n",
      "EVS: -9.954402380174649e+21\n",
      "Ridge Regression:\n",
      "MAE: 58.48712640903566\n",
      "MSE: 15272.787683684397\n",
      "RMSE: 123.58312054517963\n",
      "R^2: 0.09687130649531661\n",
      "EVS: 0.09757895040543063\n",
      "Lasso Regression:\n",
      "MAE: 55.06291457239276\n",
      "MSE: 15029.781579719694\n",
      "RMSE: 122.59600964028027\n",
      "R^2: 0.11124103321009027\n",
      "EVS: 0.11185955770198897\n",
      "Random Forest Regression:\n",
      "MAE: 45.885544691114646\n",
      "MSE: 11480.049886966319\n",
      "RMSE: 107.14499468928224\n",
      "R^2: 0.3211480005801194\n",
      "EVS: 0.3310673271063108\n",
      "Gradient Boosting Regression:\n",
      "MAE: 43.36137085637197\n",
      "MSE: 13154.618747389743\n",
      "RMSE: 114.69358633938404\n",
      "R^2: 0.2221253978686677\n",
      "EVS: 0.22240146809745087\n"
     ]
    }
   ],
   "source": [
    "# Compute evaluation metrics for each model.\n",
    "linear_reg_mae = mean_absolute_error(y_test, y_pred_linear_reg)\n",
    "ridge_reg_mae = mean_absolute_error(y_test, y_pred_ridge_reg)\n",
    "lasso_reg_mae = mean_absolute_error(y_test, y_pred_lasso_reg)\n",
    "rf_reg_mae = mean_absolute_error(y_test, y_pred_rf_reg)\n",
    "gb_reg_mae = mean_absolute_error(y_test, y_pred_gb_reg)\n",
    "\n",
    "linear_reg_mse = mean_squared_error(y_test, y_pred_linear_reg)\n",
    "ridge_reg_mse = mean_squared_error(y_test, y_pred_ridge_reg)\n",
    "lasso_reg_mse = mean_squared_error(y_test, y_pred_lasso_reg)\n",
    "rf_reg_mse = mean_squared_error(y_test, y_pred_rf_reg)\n",
    "gb_reg_mse = mean_squared_error(y_test, y_pred_gb_reg)\n",
    "\n",
    "linear_reg_rmse = np.sqrt(mean_squared_error(y_test, y_pred_linear_reg))\n",
    "ridge_reg_rmse = np.sqrt(mean_squared_error(y_test, y_pred_ridge_reg))\n",
    "lasso_reg_rmse = np.sqrt(mean_squared_error(y_test, y_pred_lasso_reg))\n",
    "rf_reg_rmse = np.sqrt(mean_squared_error(y_test, y_pred_rf_reg))\n",
    "gb_reg_rmse = np.sqrt(mean_squared_error(y_test, y_pred_gb_reg))\n",
    "\n",
    "linear_reg_r2 = r2_score(y_test, y_pred_linear_reg)\n",
    "ridge_reg_r2 = r2_score(y_test, y_pred_ridge_reg)\n",
    "lasso_reg_r2 = r2_score(y_test, y_pred_lasso_reg)\n",
    "rf_reg_r2 = r2_score(y_test, y_pred_rf_reg)\n",
    "gb_reg_r2 = r2_score(y_test, y_pred_gb_reg)\n",
    "\n",
    "linear_reg_evs = explained_variance_score(y_test, y_pred_linear_reg)\n",
    "ridge_reg_evs = explained_variance_score(y_test, y_pred_ridge_reg)\n",
    "lasso_reg_evs = explained_variance_score(y_test, y_pred_lasso_reg)\n",
    "rf_reg_evs = explained_variance_score(y_test, y_pred_rf_reg)\n",
    "gb_reg_evs = explained_variance_score(y_test, y_pred_gb_reg)\n",
    "\n",
    "# Print the evaluation metrics for each model.\n",
    "print(\"Linear Regression:\")\n",
    "print(\"MAE:\", linear_reg_mae)\n",
    "print(\"MSE:\", linear_reg_mse)\n",
    "print(\"RMSE:\", linear_reg_rmse)\n",
    "print(\"R^2:\", linear_reg_r2)\n",
    "print(\"EVS:\", linear_reg_evs)\n",
    "\n",
    "print(\"Ridge Regression:\")\n",
    "print(\"MAE:\", ridge_reg_mae)\n",
    "print(\"MSE:\", ridge_reg_mse)\n",
    "print(\"RMSE:\", ridge_reg_rmse)\n",
    "print(\"R^2:\", ridge_reg_r2)\n",
    "print(\"EVS:\", ridge_reg_evs)\n",
    "\n",
    "print(\"Lasso Regression:\")\n",
    "print(\"MAE:\", lasso_reg_mae)\n",
    "print(\"MSE:\", lasso_reg_mse)\n",
    "print(\"RMSE:\", lasso_reg_rmse)\n",
    "print(\"R^2:\", lasso_reg_r2)\n",
    "print(\"EVS:\", lasso_reg_evs)\n",
    "\n",
    "print(\"Random Forest Regression:\")\n",
    "print(\"MAE:\", rf_reg_mae)\n",
    "print(\"MSE:\", rf_reg_mse)\n",
    "print(\"RMSE:\", rf_reg_rmse)\n",
    "print(\"R^2:\", rf_reg_r2)\n",
    "print(\"EVS:\", rf_reg_evs)\n",
    "\n",
    "print(\"Gradient Boosting Regression:\")\n",
    "print(\"MAE:\", gb_reg_mae)\n",
    "print(\"MSE:\", gb_reg_mse)\n",
    "print(\"RMSE:\", gb_reg_rmse)\n",
    "print(\"R^2:\", gb_reg_r2)\n",
    "print(\"EVS:\", gb_reg_evs)\n"
   ]
  },
  {
   "cell_type": "code",
   "execution_count": null,
   "id": "6e4abefa",
   "metadata": {},
   "outputs": [],
   "source": []
  }
 ],
 "metadata": {
  "kernelspec": {
   "display_name": "Python 3 (ipykernel)",
   "language": "python",
   "name": "python3"
  },
  "language_info": {
   "codemirror_mode": {
    "name": "ipython",
    "version": 3
   },
   "file_extension": ".py",
   "mimetype": "text/x-python",
   "name": "python",
   "nbconvert_exporter": "python",
   "pygments_lexer": "ipython3",
   "version": "3.8.16"
  }
 },
 "nbformat": 4,
 "nbformat_minor": 5
}
